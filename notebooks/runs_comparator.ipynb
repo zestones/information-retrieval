{
 "cells": [
  {
   "cell_type": "markdown",
   "metadata": {},
   "source": [
    "# Import Required Libraries\n",
    "\n",
    "Import the necessary libraries, including pandas and matplotlib.\n"
   ]
  },
  {
   "cell_type": "code",
   "execution_count": 17,
   "metadata": {},
   "outputs": [],
   "source": [
    "import numpy as np\n",
    "import pandas as pd\n",
    "from scipy.stats import kendalltau, spearmanr\n",
    "\n",
    "import matplotlib.pyplot as plt\n",
    "import seaborn as sns"
   ]
  },
  {
   "cell_type": "markdown",
   "metadata": {},
   "source": [
    "# Read Run Files\n",
    "\n",
    "Read the two run files into pandas DataFrames.\n"
   ]
  },
  {
   "cell_type": "code",
   "execution_count": 18,
   "metadata": {},
   "outputs": [],
   "source": [
    "# Read Run Files\n",
    "run_folder = \"../docs/resources/runs/\"\n",
    "# baseline : BengezzouIdrissMezianeGhilas_1_bm25_article_stop671_porter_k1_b0.5.txt\n",
    "\n",
    "# Read the first run file into a pandas DataFrame\n",
    "df1 = pd.read_csv(\n",
    "    \"../docs/resources/runs/before.txt\",\n",
    "    sep=\" \",\n",
    ")\n",
    "\n",
    "filename = \"BengezzouIdrissMezianeGhilas_2_bm25fr_article_stop671_porter_k1_b0.5_alpha3_beta1_gamma2.txt\"\n",
    "df2 = pd.read_csv(\n",
    "    run_folder + filename,\n",
    "    sep=\" \",\n",
    ")"
   ]
  },
  {
   "cell_type": "code",
   "execution_count": 19,
   "metadata": {},
   "outputs": [
    {
     "name": "stdout",
     "output_type": "stream",
     "text": [
      "number of rows in df1:  48\n",
      "number of rows in df2:  48\n"
     ]
    }
   ],
   "source": [
    "print(\"number of rows in df1: \", len(df1))\n",
    "print(\"number of rows in df2: \", len(df2))"
   ]
  },
  {
   "cell_type": "markdown",
   "metadata": {},
   "source": [
    "# Compare Run Files\n",
    "\n",
    "Compare the order of the third column in the two DataFrames and identify the differences.\n"
   ]
  },
  {
   "cell_type": "code",
   "execution_count": 20,
   "metadata": {},
   "outputs": [
    {
     "data": {
      "text/html": [
       "<div>\n",
       "<style scoped>\n",
       "    .dataframe tbody tr th:only-of-type {\n",
       "        vertical-align: middle;\n",
       "    }\n",
       "\n",
       "    .dataframe tbody tr th {\n",
       "        vertical-align: top;\n",
       "    }\n",
       "\n",
       "    .dataframe thead th {\n",
       "        text-align: right;\n",
       "    }\n",
       "</style>\n",
       "<table border=\"1\" class=\"dataframe\">\n",
       "  <thead>\n",
       "    <tr style=\"text-align: right;\">\n",
       "      <th></th>\n",
       "      <th>self</th>\n",
       "      <th>other</th>\n",
       "    </tr>\n",
       "  </thead>\n",
       "  <tbody>\n",
       "  </tbody>\n",
       "</table>\n",
       "</div>"
      ],
      "text/plain": [
       "Empty DataFrame\n",
       "Columns: [self, other]\n",
       "Index: []"
      ]
     },
     "execution_count": 20,
     "metadata": {},
     "output_type": "execute_result"
    }
   ],
   "source": [
    "# we need to compare the two dataframes (only the third column)\n",
    "df1_col3 = df1.iloc[:, 2]\n",
    "df2_col3 = df2.iloc[:, 2]\n",
    "\n",
    "# Compare the two columns and identify the differences\n",
    "differences = df1_col3.compare(df2_col3)\n",
    "differences.head()"
   ]
  },
  {
   "cell_type": "markdown",
   "metadata": {},
   "source": [
    "# Calculate Statistics\n",
    "\n",
    "Calculate statistics on the differences, such as the number of changes, the percentage of changes, or the average change magnitude.\n",
    "\n",
    "1. Number of Changes: This statistic represents the total count of differences between the two DataFrames. It indicates how many values in the third column of the DataFrames differ from each other.\n",
    "\n",
    "2. Percentage of Changes: This statistic calculates the percentage of changes in the third column of the DataFrames. It is calculated by dividing the number of changes by the total number of values in the third column and multiplying by 100. It provides a measure of the overall impact of the differences.\n",
    "\n",
    "3. Average Change Magnitude: This statistic calculates the average magnitude of the changes in the third column of the DataFrames. It represents the average absolute difference between the corresponding values in the two DataFrames. It gives an indication of the typical size of the differences.\n"
   ]
  },
  {
   "cell_type": "code",
   "execution_count": 21,
   "metadata": {},
   "outputs": [
    {
     "name": "stderr",
     "output_type": "stream",
     "text": [
      "posx and posy should be finite values\n",
      "posx and posy should be finite values\n"
     ]
    },
    {
     "data": {
      "image/png": "[encoded data removed]",
      "text/plain": [
       "<Figure size 1000x500 with 1 Axes>"
      ]
     },
     "metadata": {},
     "output_type": "display_data"
    }
   ],
   "source": [
    "# Calculate the number of changes\n",
    "num_changes = len(differences)\n",
    "\n",
    "# Calculate the percentage of changes\n",
    "percent_changes = (num_changes / len(df1_col3)) * 100\n",
    "\n",
    "# Calculate the average change magnitude\n",
    "avg_change_magnitude = differences[\"self\"].mean()\n",
    "\n",
    "# Create a bar chart to display the statistics\n",
    "plt.bar(\n",
    "    [\"Number of Changes\", \"Percentage of Changes\", \"Average Change Magnitude\"],\n",
    "    [num_changes, percent_changes, avg_change_magnitude],\n",
    ")\n",
    "\n",
    "plt.gcf().set_size_inches(10, 5)\n",
    "\n",
    "# Set the title and labels for the chart\n",
    "plt.title(\"Statistics on Differences\")\n",
    "plt.xlabel(\"Statistics\")\n",
    "plt.ylabel(\"Value\")\n",
    "\n",
    "# Add text annotations to the bars\n",
    "plt.text(0, num_changes, str(num_changes), ha=\"center\", va=\"bottom\")\n",
    "plt.text(1, percent_changes, f\"{percent_changes:.2f}%\", ha=\"center\", va=\"bottom\")\n",
    "plt.text(\n",
    "    2, avg_change_magnitude, f\"{avg_change_magnitude:.2f}\", ha=\"center\", va=\"bottom\"\n",
    ")\n",
    "\n",
    "# Display the chart\n",
    "plt.show()"
   ]
  },
  {
   "cell_type": "markdown",
   "metadata": {},
   "source": [
    "# Check the Top Rows\n",
    "\n",
    "The important point is that we need to have similar tops to have a good MaGp score. If the tops are different, then the MaGp score will be low. We can check the top rows of the two files to see if they are similar.\n"
   ]
  },
  {
   "cell_type": "code",
   "execution_count": 22,
   "metadata": {},
   "outputs": [],
   "source": [
    "MAX_ROWS = 1500\n",
    "\n",
    "# Compare the two columns and identify the differences\n",
    "df1_top_set = set(df1_col3.iloc[:MAX_ROWS])\n",
    "df2_top_set = set(df2_col3.iloc[:MAX_ROWS])"
   ]
  },
  {
   "cell_type": "code",
   "execution_count": 23,
   "metadata": {},
   "outputs": [
    {
     "data": {
      "image/png": "[encoded data removed]",
      "text/plain": [
       "<Figure size 1000x500 with 1 Axes>"
      ]
     },
     "metadata": {},
     "output_type": "display_data"
    }
   ],
   "source": [
    "# Calculate the statistics\n",
    "num_elements_intersection = len(set(df1_top_set).intersection(set(df2_top_set)))\n",
    "num_elements_union = len(set(df1_top_set).union(set(df2_top_set)))\n",
    "num_elements_difference = len(set(df1_top_set).difference(set(df2_top_set)))\n",
    "num_elements_symmetric_difference = len(\n",
    "    set(df1_top_set).symmetric_difference(set(df2_top_set))\n",
    ")\n",
    "\n",
    "# Create a bar chart for the set operations\n",
    "plt.bar(\n",
    "    [\"Union\", \"Intersection\", \"Difference\", \"Symmetric Difference\"],\n",
    "    [\n",
    "        num_elements_union,\n",
    "        num_elements_intersection,\n",
    "        num_elements_difference,\n",
    "        num_elements_symmetric_difference,\n",
    "    ],\n",
    ")\n",
    "\n",
    "plt.gcf().set_size_inches(10, 5)\n",
    "\n",
    "# display the values on top of the bars\n",
    "plt.text(0, num_elements_union, str(num_elements_union), ha=\"center\", va=\"bottom\")\n",
    "plt.text(\n",
    "    1,\n",
    "    num_elements_intersection,\n",
    "    str(num_elements_intersection),\n",
    "    ha=\"center\",\n",
    "    va=\"bottom\",\n",
    ")\n",
    "plt.text(\n",
    "    2, num_elements_difference, str(num_elements_difference), ha=\"center\", va=\"bottom\"\n",
    ")\n",
    "plt.text(\n",
    "    3,\n",
    "    num_elements_symmetric_difference,\n",
    "    str(num_elements_symmetric_difference),\n",
    "    ha=\"center\",\n",
    "    va=\"bottom\",\n",
    ")\n",
    "\n",
    "# Set the title and labels for the chart\n",
    "plt.title(\"Set Operations\")\n",
    "plt.xlabel(\"Operation\")\n",
    "plt.ylabel(\"Count\")\n",
    "\n",
    "# Display the chart\n",
    "plt.show()"
   ]
  },
  {
   "cell_type": "markdown",
   "metadata": {},
   "source": [
    "# Understanding Ranking Similarity Metrics: Kendall's Tau and Spearman's Rank Correlation\n",
    "\n",
    "When working with ranked lists, it's essential to assess the similarity between different rankings, especially when the order of items might vary. In our case, we have a baseline list and a test list:\n",
    "\n",
    "- **Baseline List**: [12, 13, 14, 15, 16, 17, 18, 19, 20, 21]\n",
    "- **Test List**: [13, 15, 12, 14, 16, 17, 18, 19, 20, 21]\n",
    "\n",
    "### Kendall's Tau\n",
    "\n",
    "Kendall's Tau is a **correlation coefficient** that measures the similarity between two rankings. It considers the number of concordant and discordant pairs of elements between the lists. A positive Tau indicates concordance, meaning that the order of elements is similar, even if not identical. The value ranges from -1 to 1, where 1 implies a perfect match, 0 suggests no correlation, and -1 indicates a perfect inverse match.\n",
    "\n",
    "### Spearman's Rank Correlation\n",
    "\n",
    "Spearman's Rank Correlation is another **measure of monotonic relationship** between two rankings. It assesses how well the relationship between the ranks of elements in the two lists can be described using a monotonic function. Like Kendall's Tau, Spearman's correlation ranges from -1 to 1. A positive value indicates a positive monotonic relationship, and a negative value indicates a negative monotonic relationship.\n",
    "\n",
    "### Why Are These Metrics Relevant?\n",
    "\n",
    "1. **Permutation Tolerance**: Both metrics are robust to variations in the order of elements. In our scenario, where the lists are not identical but might involve permutations or order differences, these metrics provide a comprehensive assessment of similarity.\n",
    "\n",
    "2. **Non-Linearity Consideration**: Unlike linear correlation metrics, Kendall's Tau and Spearman's Rank Correlation don't assume a linear relationship. This makes them suitable for comparing rankings where the exact position matters more than the magnitude.\n",
    "\n",
    "By utilizing these metrics, we can have some insights into the degree of similarity between our baseline and test rankings, considering both permutations and order differences.\n"
   ]
  },
  {
   "cell_type": "code",
   "execution_count": 24,
   "metadata": {},
   "outputs": [
    {
     "data": {
      "image/png": "[encoded data removed]",
      "text/plain": [
       "<Figure size 640x480 with 1 Axes>"
      ]
     },
     "metadata": {},
     "output_type": "display_data"
    }
   ],
   "source": [
    "# Extract the tags from the filename\n",
    "start_tag = \"bm25\"\n",
    "end_tag = \"stop\"\n",
    "tags = filename.split(start_tag)[1].split(end_tag)[0]\n",
    "\n",
    "# Convert the columns to lists\n",
    "list_baseline = df1_col3.iloc[:MAX_ROWS].tolist()\n",
    "list_test = df2_col3.iloc[:MAX_ROWS].tolist()\n",
    "\n",
    "# Calculate Kendall's Tau\n",
    "kendall_tau, _ = kendalltau(list_baseline, list_test)\n",
    "\n",
    "# Calculate Spearman's Rank Correlation Coefficient\n",
    "spearman_corr, _ = spearmanr(list_baseline, list_test)\n",
    "\n",
    "# Plot the results\n",
    "labels = [\"Kendall's Tau\", \"Spearman's Rank Correlation\"]\n",
    "values = [kendall_tau, spearman_corr]\n",
    "\n",
    "fig, ax = plt.subplots()\n",
    "bars = ax.bar(labels, values, color=[\"blue\", \"green\"])\n",
    "\n",
    "# Annotate each bar with the exact value\n",
    "for bar, value in zip(bars, values):\n",
    "    yval = bar.get_height()\n",
    "    ax.text(\n",
    "        bar.get_x() + bar.get_width() / 2,\n",
    "        yval,\n",
    "        round(value, 3),\n",
    "        ha=\"center\",\n",
    "        va=\"bottom\",\n",
    "    )\n",
    "\n",
    "ax.set_ylabel(\"Similarity\")\n",
    "ax.set_title(\"Ranking Similarity Metrics\")\n",
    "\n",
    "# export plots\n",
    "plt.savefig(f\"../docs/resources/plots/plots{tags}.png\")\n",
    "\n",
    "# Show the plot\n",
    "plt.show()"
   ]
  }
 ],
 "metadata": {
  "kernelspec": {
   "display_name": "Python 3",
   "language": "python",
   "name": "python3"
  },
  "language_info": {
   "codemirror_mode": {
    "name": "ipython",
    "version": 3
   },
   "file_extension": ".py",
   "mimetype": "text/x-python",
   "name": "python",
   "nbconvert_exporter": "python",
   "pygments_lexer": "ipython3",
   "version": "3.10.11"
  },
  "orig_nbformat": 4
 },
 "nbformat": 4,
 "nbformat_minor": 2
}
