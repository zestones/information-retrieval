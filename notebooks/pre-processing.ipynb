{
 "cells": [
  {
   "cell_type": "code",
   "execution_count": 20,
   "metadata": {},
   "outputs": [],
   "source": [
    "from textprocessor import CustomTextProcessorNoStem\n",
    "from textprocessor import CustomTextProcessor\n",
    "\n",
    "import xml.etree.ElementTree as ET\n",
    "from tqdm import tqdm\n",
    "import zipfile\n",
    "import re\n",
    "import os"
   ]
  },
  {
   "cell_type": "code",
   "execution_count": 21,
   "metadata": {},
   "outputs": [],
   "source": [
    "processor = CustomTextProcessor()\n",
    "\n",
    "collection_name = \"XML-Coll-withSem\"\n",
    "processed_dir = \"../lib/processed_data/\" + collection_name + \"_\" + processor.get_text_processor_name() + \"/\"\n",
    "\n",
    "os.makedirs(processed_dir, exist_ok=True)"
   ]
  },
  {
   "cell_type": "code",
   "execution_count": 22,
   "metadata": {},
   "outputs": [],
   "source": [
    "zip_file_path = \"../lib/data/practice_05/\" + collection_name + \".zip\""
   ]
  },
  {
   "cell_type": "code",
   "execution_count": 23,
   "metadata": {},
   "outputs": [],
   "source": [
    "def process_text_in_tags(element):\n",
    "    if element.text:\n",
    "        processed_text = ' '.join(processor.pre_processing(element.text))\n",
    "        element.text = processed_text\n",
    "\n",
    "    if element.tail:  # Process the tail (text after the closing tag)\n",
    "        processed_tail = ' '.join(processor.pre_processing(element.tail))\n",
    "        element.tail = processed_tail\n",
    "\n",
    "    for child in element:\n",
    "        process_text_in_tags(child)"
   ]
  },
  {
   "cell_type": "code",
   "execution_count": 24,
   "metadata": {},
   "outputs": [
    {
     "name": "stderr",
     "output_type": "stream",
     "text": [
      "Processing files: 100%|██████████| 9804/9804 [11:18<00:00, 14.46it/s]\n"
     ]
    }
   ],
   "source": [
    "with zipfile.ZipFile(zip_file_path, 'r') as zip_ref:\n",
    "    xml_file_name = zip_ref.namelist()\n",
    "    for file in tqdm(xml_file_name, desc=\"Processing files\"):\n",
    "        with zip_ref.open(file) as xml_file:\n",
    "            xml_content = xml_file.read().decode('utf-8')\n",
    "\n",
    "            root = ET.fromstring(re.sub('&[^;]+;', ' ', xml_content))\n",
    "            process_text_in_tags(root)\n",
    "\n",
    "            # Convert the processed XML content to a string\n",
    "            processed_xml = ET.tostring(root, encoding='unicode')\n",
    "            processed_xml_file_path = f\"{processed_dir}{file.split('/')[1].split('.')[0]}.xml\"\n",
    "            \n",
    "            # Save the processed XML content to a new XML file\n",
    "            with open(processed_xml_file_path, 'w', encoding='utf-8') as processed_file:\n",
    "                processed_file.write(processed_xml)"
   ]
  }
 ],
 "metadata": {
  "kernelspec": {
   "display_name": "Python 3",
   "language": "python",
   "name": "python3"
  },
  "language_info": {
   "codemirror_mode": {
    "name": "ipython",
    "version": 3
   },
   "file_extension": ".py",
   "mimetype": "text/x-python",
   "name": "python",
   "nbconvert_exporter": "python",
   "pygments_lexer": "ipython3",
   "version": "3.10.11"
  },
  "orig_nbformat": 4
 },
 "nbformat": 4,
 "nbformat_minor": 2
}
