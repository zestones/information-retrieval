{
 "cells": [
  {
   "cell_type": "markdown",
   "metadata": {},
   "source": [
    "# Pre-processing analysis\n",
    "\n",
    "The aim of this notebook is to analyse the pre-processing steps that are applied to data. We have a reference TextPreprocessor class that is used to pre-process the data. We will try to improve the pre-processing steps by analysing the data and comparing the results of new steps with the reference.\n",
    "\n",
    "---\n",
    "\n",
    "## Imports\n",
    "\n",
    "First we import the necessary modules and classes.\n"
   ]
  },
  {
   "cell_type": "code",
   "execution_count": 32,
   "metadata": {},
   "outputs": [],
   "source": [
    "from textprocessor import (\n",
    "    CustomTextProcessor,\n",
    "    ReferenceTextProcessor,\n",
    "    ReferenceRearrangedTextProcessor,\n",
    ")\n",
    "from sklearn.linear_model import LinearRegression\n",
    "from difflib import SequenceMatcher\n",
    "import xml.etree.ElementTree as ET\n",
    "from colorama import Fore, Style\n",
    "import matplotlib.pyplot as plt\n",
    "from collections import Counter\n",
    "from tabulate import tabulate\n",
    "from tqdm import tqdm\n",
    "import pandas as pd\n",
    "import numpy as np\n",
    "import zipfile\n",
    "import json\n",
    "import re\n",
    "import os\n",
    "import re"
   ]
  },
  {
   "cell_type": "markdown",
   "metadata": {},
   "source": [
    "We define a function to pre-process the collection using the reference TextPreprocessor class. This will generate a folder with the pre-processed data in txt format.\n"
   ]
  },
  {
   "cell_type": "code",
   "execution_count": 33,
   "metadata": {},
   "outputs": [],
   "source": [
    "def pre_process_collection(collection_path, processed_dir):\n",
    "    processor = ReferenceTextProcessor()\n",
    "    with zipfile.ZipFile(collection_path, \"r\") as zip_ref:\n",
    "        xml_file_name = zip_ref.namelist()\n",
    "        for file in tqdm(xml_file_name, desc=\"Processing files\"):\n",
    "            with zip_ref.open(file) as xml_file:\n",
    "                xml_content = xml_file.read().decode(\"utf-8\")\n",
    "\n",
    "                xml_content = re.sub(r\"<[^>]+>\", \" \", xml_content)\n",
    "                xml_content = re.sub(r\"&[^;]+;\", \" \", xml_content)\n",
    "                xml_content = processor.pre_processing(xml_content)\n",
    "                xml_content = \" \".join(xml_content)\n",
    "\n",
    "                processed_xml_file_path = (\n",
    "                    f\"{processed_dir}{file.split('/')[1].split('.')[0]}.txt\"\n",
    "                )\n",
    "\n",
    "                # Save the processed XML content to a new XML file\n",
    "                with open(\n",
    "                    processed_xml_file_path, \"w\", encoding=\"utf-8\"\n",
    "                ) as processed_file:\n",
    "                    processed_file.write(xml_content)"
   ]
  },
  {
   "cell_type": "code",
   "execution_count": 34,
   "metadata": {},
   "outputs": [],
   "source": [
    "collection_name = \"XML-Coll-withSem\"\n",
    "collection_path = f\"../lib/data/practice_05/{collection_name}\" + \".zip\"\n",
    "processed_dir = f\"../lib/processed_data/reference/{collection_name}/\"\n",
    "os.makedirs(processed_dir, exist_ok=True)"
   ]
  },
  {
   "cell_type": "markdown",
   "metadata": {},
   "source": [
    "**UNCOMMENT** the following cell if you want to pre-process the data with the `ReferenceTextPreprocessor` class.\n"
   ]
  },
  {
   "cell_type": "code",
   "execution_count": 35,
   "metadata": {},
   "outputs": [],
   "source": [
    "# pre_process_collection(collection_path, processed_dir)"
   ]
  },
  {
   "cell_type": "markdown",
   "metadata": {},
   "source": [
    "## Overall Statistics of the Collection\n",
    "\n",
    "We will start by analysing the overall statistics of the collection. We will now read the pre-processed data and compute the statistics. We will store the following data for each document inside a dataframe:\n",
    "\n",
    "- Docno\n",
    "- Document length\n",
    "- Number of unique words\n",
    "- words\n",
    "\n",
    "And then for the collection we will compute :\n",
    "\n",
    "- avg collection lengths\n",
    "- avg term lengths in collection\n",
    "- collection vocabulary sizes\n",
    "- collection frequency of terms\n"
   ]
  },
  {
   "cell_type": "code",
   "execution_count": 36,
   "metadata": {},
   "outputs": [],
   "source": [
    "def compute_statistics(text, docno, stats_data, all_unique_words):\n",
    "    words = text.split()\n",
    "\n",
    "    all_unique_words.update(words)\n",
    "\n",
    "    unique_words = set(words)\n",
    "    stats_data.append(\n",
    "        {\n",
    "            \"Docno\": docno,\n",
    "            \"Document length\": len(words),\n",
    "            \"Number of unique words\": len(unique_words),\n",
    "            \"Words\": words,\n",
    "        }\n",
    "    )\n",
    "\n",
    "    return len(words)\n",
    "\n",
    "\n",
    "def print_collection_statistics(\n",
    "    avg_doc_length, avg_word_length, total_unique_words, total_words\n",
    "):\n",
    "    stats = {\n",
    "        \"Average document length\": avg_doc_length,\n",
    "        \"Average word length\": avg_word_length,\n",
    "        \"Total unique words\": total_unique_words,\n",
    "        \"Total words\": total_words,\n",
    "    }\n",
    "\n",
    "    print(\n",
    "        tabulate(\n",
    "            stats.items(),\n",
    "            headers=[\"Statistic\", \"Value\"],\n",
    "            tablefmt=\"fancy_grid\",\n",
    "            numalign=\"center\",\n",
    "        )\n",
    "    )\n",
    "    return stats\n",
    "\n",
    "\n",
    "def save_collection_statistics(stats, file_path):\n",
    "    with open(f\"{file_path}\", \"w\") as f:\n",
    "        json.dump(stats, f, indent=4)"
   ]
  },
  {
   "cell_type": "markdown",
   "metadata": {},
   "source": [
    "We comput the stats on the previous preprocessing method.\n"
   ]
  },
  {
   "cell_type": "code",
   "execution_count": 37,
   "metadata": {},
   "outputs": [
    {
     "name": "stderr",
     "output_type": "stream",
     "text": [
      "Computing statistics:  18%|█▊        | 1751/9804 [00:00<00:00, 8246.15it/s]"
     ]
    },
    {
     "name": "stderr",
     "output_type": "stream",
     "text": [
      "Computing statistics: 100%|██████████| 9804/9804 [00:01<00:00, 8111.48it/s]\n"
     ]
    }
   ],
   "source": [
    "stats_data = []\n",
    "\n",
    "total_words = 0\n",
    "all_unique_words = set()\n",
    "\n",
    "for file in tqdm(os.listdir(processed_dir), desc=\"Computing statistics\"):\n",
    "    with open(processed_dir + file, \"r\", encoding=\"utf-8\") as processed_file:\n",
    "        content = processed_file.read()\n",
    "        docno = file.split(\".\")[0]\n",
    "\n",
    "        total_words += compute_statistics(content, docno, stats_data, all_unique_words)\n",
    "\n",
    "\n",
    "stats_df = pd.DataFrame(stats_data)\n",
    "total_unique_words = len(all_unique_words)\n",
    "avg_doc_length = stats_df[\"Document length\"].mean()\n",
    "avg_word_length = sum(len(word) for word in all_unique_words) / total_unique_words"
   ]
  },
  {
   "cell_type": "code",
   "execution_count": 38,
   "metadata": {},
   "outputs": [
    {
     "name": "stdout",
     "output_type": "stream",
     "text": [
      "╒═════════════════════════╤═════════════╕\n",
      "│ Statistic               │    Value    │\n",
      "╞═════════════════════════╪═════════════╡\n",
      "│ Average document length │   654.008   │\n",
      "├─────────────────────────┼─────────────┤\n",
      "│ Average word length     │   8.39066   │\n",
      "├─────────────────────────┼─────────────┤\n",
      "│ Total unique words      │   210232    │\n",
      "├─────────────────────────┼─────────────┤\n",
      "│ Total words             │ 6.41189e+06 │\n",
      "╘═════════════════════════╧═════════════╛\n"
     ]
    }
   ],
   "source": [
    "statistics = print_collection_statistics(\n",
    "    avg_doc_length, avg_word_length, total_unique_words, total_words\n",
    ")\n",
    "save_collection_statistics(\n",
    "    statistics, f\"../lib/processed_data/reference/{collection_name}_stats.json\"\n",
    ")"
   ]
  },
  {
   "cell_type": "markdown",
   "metadata": {},
   "source": [
    "We now compute the stats on the collection that has been pre-processed with the new method.\n"
   ]
  },
  {
   "cell_type": "code",
   "execution_count": 39,
   "metadata": {},
   "outputs": [
    {
     "name": "stderr",
     "output_type": "stream",
     "text": [
      "Processing files: 100%|██████████| 9804/9804 [00:07<00:00, 1346.19it/s]\n"
     ]
    }
   ],
   "source": [
    "stats_data_2 = []\n",
    "\n",
    "total_words_2 = 0\n",
    "all_unique_words_2 = set()\n",
    "\n",
    "with zipfile.ZipFile(\n",
    "    \"../lib/processed_data/XML-Coll-withSem_stop670_porter_ref_rearranged.zip\", \"r\"\n",
    ") as zip_ref:\n",
    "    xml_file_name = zip_ref.namelist()\n",
    "    for file in tqdm(xml_file_name, desc=\"Processing files\"):\n",
    "        with zip_ref.open(file) as xml_file:\n",
    "            xml_content = xml_file.read().decode(\"utf-8\")\n",
    "            root = ET.fromstring(xml_content)\n",
    "            xml_content = \" \".join(root.itertext())\n",
    "\n",
    "            # Extract 'docno' from the file name\n",
    "            docno = file.split(\"/\")[1].split(\".\")[0]\n",
    "            total_words_2 += compute_statistics(\n",
    "                xml_content, docno, stats_data_2, all_unique_words_2\n",
    "            )\n",
    "\n",
    "stats_df_2 = pd.DataFrame(stats_data_2)\n",
    "total_unique_words_2 = len(all_unique_words_2)\n",
    "avg_doc_length_2 = stats_df_2[\"Document length\"].mean()\n",
    "avg_word_length_2 = sum(len(word) for word in all_unique_words_2) / total_unique_words_2"
   ]
  },
  {
   "cell_type": "code",
   "execution_count": 40,
   "metadata": {},
   "outputs": [
    {
     "name": "stdout",
     "output_type": "stream",
     "text": [
      "╒═════════════════════════╤═════════════╕\n",
      "│ Statistic               │    Value    │\n",
      "╞═════════════════════════╪═════════════╡\n",
      "│ Average document length │   628.267   │\n",
      "├─────────────────────────┼─────────────┤\n",
      "│ Average word length     │   9.22707   │\n",
      "├─────────────────────────┼─────────────┤\n",
      "│ Total unique words      │   226564    │\n",
      "├─────────────────────────┼─────────────┤\n",
      "│ Total words             │ 6.15953e+06 │\n",
      "╘═════════════════════════╧═════════════╛\n"
     ]
    }
   ],
   "source": [
    "statistics_2 = print_collection_statistics(\n",
    "    avg_doc_length_2, avg_word_length_2, total_unique_words_2, total_words_2\n",
    ")"
   ]
  },
  {
   "cell_type": "markdown",
   "metadata": {},
   "source": [
    "Let's also make a quick comparison of the frequency of the terms of the queries inside the collection.\n"
   ]
  },
  {
   "cell_type": "code",
   "execution_count": 42,
   "metadata": {},
   "outputs": [],
   "source": [
    "def pre_process_queries(queries, processor):\n",
    "    pre_processed_queries = [processor.pre_processing(query) for query in queries]\n",
    "    return pre_processed_queries\n",
    "\n",
    "\n",
    "def count_words_frequency(pre_processed_queries, df):\n",
    "    query_word_counts = Counter()\n",
    "    for pre_processed_query in pre_processed_queries:\n",
    "        for words in df[\"Words\"]:\n",
    "            query_word_counts.update(\n",
    "                [word for word in words if word in pre_processed_query]\n",
    "            )\n",
    "\n",
    "    return query_word_counts\n",
    "\n",
    "\n",
    "queries = [\n",
    "    \"olive oil health benefit\",\n",
    "    \"notting hill film actors\",\n",
    "    \"probabilistic models in information retrieval\",\n",
    "    \"web link network analysis\",\n",
    "    \"web ranking scoring algorithm\",\n",
    "    \"supervised machine learning algorithm\",\n",
    "    \"operating system mutual exclusion\",\n",
    "]"
   ]
  },
  {
   "cell_type": "code",
   "execution_count": 43,
   "metadata": {},
   "outputs": [],
   "source": [
    "pre_processed_queries = pre_process_queries(queries, ReferenceTextProcessor())\n",
    "pre_processed_queries_2 = pre_process_queries(\n",
    "    queries, ReferenceRearrangedTextProcessor()\n",
    ")\n",
    "\n",
    "query_word_counts = count_words_frequency(pre_processed_queries, stats_df)\n",
    "query_word_counts_2 = count_words_frequency(pre_processed_queries_2, stats_df_2)"
   ]
  },
  {
   "cell_type": "code",
   "execution_count": 44,
   "metadata": {},
   "outputs": [
    {
     "name": "stdout",
     "output_type": "stream",
     "text": [
      "                        actor    algorithm    analysi    benefit    exclus    film    health    hill    inform    learn    link    machin    model    mutual    network    oil    oliv    oper    probabilist    rank    retriev    score    supervis    system    web\n",
      "--------------------  -------  -----------  ---------  ---------  --------  ------  --------  ------  --------  -------  ------  --------  -------  --------  ---------  -----  ------  ------  -------------  ------  ---------  -------  ----------  --------  -----\n",
      "Original method          7115        35312       8143       4716      1893   16708     11414    4526     17490     6027   12306      9165    15424      2711      17912  14407    3025   16621           1229    3673      13578     4198         589     38947  20188\n",
      "New method               7113        35326       8164       4716      1891   16708     11411    4526     17512     6028   12306      9160    15422      2711      17968  14409    3027   16622           1229    3680      13570     4198         589     39351  20188\n",
      "Frequency difference       -2           14         21          0        -2       0        -3       0        22        1       0        -5       -2         0         56      2       2       1              0       7         -8        0           0       404      0\n",
      "----------------------------------------\n",
      "Overall difference: 508\n"
     ]
    }
   ],
   "source": [
    "word_counts = {\n",
    "    \"Original method\": dict(query_word_counts),\n",
    "    \"New method\": dict(query_word_counts_2),\n",
    "    \"Frequency difference\": {\n",
    "        word: query_word_counts_2[word] - query_word_counts[word]\n",
    "        for word in query_word_counts\n",
    "    },\n",
    "}\n",
    "\n",
    "table = []\n",
    "for word, counts in word_counts.items():\n",
    "    table.append([word] + [counts.get(key, 0) for key in sorted(query_word_counts)])\n",
    "\n",
    "# Insert header with word columns\n",
    "header = [\"\"] + sorted(query_word_counts)\n",
    "\n",
    "# Display the table\n",
    "print(tabulate(table, headers=header))\n",
    "\n",
    "overall_difference = sum(word_counts[\"Frequency difference\"].values())\n",
    "print(\"----------------------------------------\")\n",
    "print(f\"Overall difference: {overall_difference}\")"
   ]
  },
  {
   "cell_type": "markdown",
   "metadata": {},
   "source": [
    "## Term Frequency Distribution\n",
    "\n",
    "We found out that the term frequency of the collection is not following a Zipf law distribution. It might be because of the pre-processing steps that are applied to the data. We will now analyse the term frequency distribution of the collection and compare it with the reference.\n"
   ]
  },
  {
   "cell_type": "code",
   "execution_count": 45,
   "metadata": {},
   "outputs": [],
   "source": [
    "def compute_zipf_parameters(all_words):\n",
    "    word_occurrences = Counter(all_words)\n",
    "    sorted_words = sorted(word_occurrences.items(), key=lambda x: x[1], reverse=True)\n",
    "    ranks = list(range(1, len(sorted_words) + 1))\n",
    "    frequencies = [freq for _, freq in sorted_words]\n",
    "\n",
    "    model = LinearRegression().fit(np.log(ranks).reshape(-1, 1), np.log(frequencies))\n",
    "\n",
    "    return frequencies, ranks, model\n",
    "\n",
    "\n",
    "def plot_zipf_law(ax, frequencies, ranks, model, dataset_name):\n",
    "    ax.scatter(ranks, frequencies, color=\"blue\", s=5, label=dataset_name)\n",
    "    ax.set_yscale(\"log\")\n",
    "    ax.set_xscale(\"log\")\n",
    "    ax.set_title(\"Zipf's Law - Word Frequency Distribution\")\n",
    "    ax.set_xlabel(\"Word Rank\")\n",
    "    ax.set_ylabel(\"Word Frequency\")\n",
    "\n",
    "    # Plot the linear regression line\n",
    "    log_ranks = np.log(ranks).reshape(-1, 1)\n",
    "    ax.plot(\n",
    "        ranks,\n",
    "        np.exp(model.predict(log_ranks)),\n",
    "        color=\"red\",\n",
    "        linestyle=\"-\",\n",
    "        linewidth=2,\n",
    "        label=\"Linear Regression\",\n",
    "    )\n",
    "\n",
    "    ax.legend()\n",
    "    ax.grid(True)\n",
    "\n",
    "\n",
    "def print_conclusion(slope, dataset_name):\n",
    "    print(f\"Estimated slope for {dataset_name} (power law exponent): {slope}\")\n",
    "    print(f\"Slope + 1: {abs(slope + 1)}\")\n",
    "    if abs(slope + 1) < 0.1:\n",
    "        print(\"The distribution approximately follows Zipf's Law.\")\n",
    "    else:\n",
    "        print(\"The distribution does not strictly follow Zipf's Law.\")"
   ]
  },
  {
   "cell_type": "code",
   "execution_count": 46,
   "metadata": {},
   "outputs": [
    {
     "data": {
      "image/png": "[encoded data removed]",
      "text/plain": [
       "<Figure size 1500x600 with 2 Axes>"
      ]
     },
     "metadata": {},
     "output_type": "display_data"
    }
   ],
   "source": [
    "# First collection\n",
    "all_words = [word for words_list in stats_df[\"Words\"] for word in words_list]\n",
    "frequencies, ranks, model = compute_zipf_parameters(all_words)\n",
    "\n",
    "# Second collection\n",
    "all_words_2 = [word for words_list in stats_df_2[\"Words\"] for word in words_list]\n",
    "frequencies_2, ranks_2, model_2 = compute_zipf_parameters(all_words_2)\n",
    "\n",
    "# Plotting both Zipf's Law distributions\n",
    "fig, (ax1, ax2) = plt.subplots(1, 2, figsize=(15, 6))\n",
    "\n",
    "plot_zipf_law(ax1, frequencies, ranks, model, \"Reference collection\")\n",
    "plot_zipf_law(ax2, frequencies_2, ranks_2, model_2, \"Further processed collection\")\n",
    "\n",
    "plt.tight_layout()\n",
    "plt.show()"
   ]
  },
  {
   "cell_type": "code",
   "execution_count": 47,
   "metadata": {},
   "outputs": [
    {
     "name": "stdout",
     "output_type": "stream",
     "text": [
      "Estimated slope for Reference collection (power law exponent): -1.368963310392746\n",
      "Slope + 1: 0.3689633103927461\n",
      "The distribution does not strictly follow Zipf's Law.\n",
      "---------\n",
      "Estimated slope for Further processed collection (power law exponent): -1.332048566362227\n",
      "Slope + 1: 0.332048566362227\n",
      "The distribution does not strictly follow Zipf's Law.\n"
     ]
    }
   ],
   "source": [
    "# Output the slope (power law exponent) for both collections\n",
    "slope = model.coef_[0]\n",
    "slope_2 = model_2.coef_[0]\n",
    "\n",
    "print_conclusion(slope, \"Reference collection\")\n",
    "print(\"---------\")\n",
    "print_conclusion(slope_2, \"Further processed collection\")"
   ]
  },
  {
   "cell_type": "markdown",
   "metadata": {},
   "source": [
    "## Pre-processing analysis\n",
    "\n",
    "We will now try to improve the pre-processing steps by analysing the data after the pre-processing steps. The objective is to improve the term frequency distribution of the collection by removing the terms that are not useful for the retrieval task.\n"
   ]
  },
  {
   "cell_type": "code",
   "execution_count": 48,
   "metadata": {},
   "outputs": [],
   "source": [
    "word_counter = Counter(all_words_2)"
   ]
  },
  {
   "cell_type": "code",
   "execution_count": 49,
   "metadata": {},
   "outputs": [],
   "source": [
    "df = pd.DataFrame(word_counter.items(), columns=[\"Word\", \"Frequency\"])\n",
    "df = df.sort_values(by=[\"Frequency\"], ascending=True)\n",
    "df[\"Word Length\"] = df[\"Word\"].apply(len)"
   ]
  },
  {
   "cell_type": "code",
   "execution_count": 50,
   "metadata": {},
   "outputs": [
    {
     "name": "stdout",
     "output_type": "stream",
     "text": [
      "226564\n",
      "Average term length: 9.227070496636712\n"
     ]
    }
   ],
   "source": [
    "print(len(df))\n",
    "avg_term_length = df[\"Word\"].str.len().mean()\n",
    "print(f\"Average term length: {avg_term_length}\")"
   ]
  },
  {
   "cell_type": "code",
   "execution_count": 51,
   "metadata": {},
   "outputs": [
    {
     "data": {
      "image/png": "[encoded data removed]",
      "text/plain": [
       "<Figure size 1500x600 with 1 Axes>"
      ]
     },
     "metadata": {},
     "output_type": "display_data"
    }
   ],
   "source": [
    "# Group by word length and sum the frequencies\n",
    "length_freq = df.groupby(\"Word Length\")[\"Frequency\"].sum().reset_index()\n",
    "\n",
    "# Plotting the distribution\n",
    "plt.figure(figsize=(15, 6))\n",
    "plt.bar(length_freq[\"Word Length\"], length_freq[\"Frequency\"], color=\"skyblue\")\n",
    "plt.title(\"Distribution of Word Length vs Frequency\")\n",
    "plt.xlabel(\"Word Length\")\n",
    "plt.ylabel(\"Frequency\")\n",
    "\n",
    "# Reduce the number of x-axis ticks for better readability\n",
    "plt.xticks(length_freq[\"Word Length\"].unique()[::5])\n",
    "\n",
    "# add a curve representing the average term length\n",
    "plt.axvline(\n",
    "    avg_term_length,\n",
    "    color=\"red\",\n",
    "    linestyle=\"--\",\n",
    "    label=f\"Average term length ({avg_term_length:.2f})\",\n",
    ")\n",
    "\n",
    "plt.legend()\n",
    "plt.grid(axis=\"y\")\n",
    "plt.show()"
   ]
  },
  {
   "cell_type": "code",
   "execution_count": 52,
   "metadata": {},
   "outputs": [
    {
     "data": {
      "image/png": "[encoded data removed]",
      "text/plain": [
       "<Figure size 1500x600 with 1 Axes>"
      ]
     },
     "metadata": {},
     "output_type": "display_data"
    }
   ],
   "source": [
    "# plot the distribution of the frequencies of the words\n",
    "plt.figure(figsize=(15, 6))\n",
    "plt.hist(df[\"Frequency\"], bins=100, color=\"skyblue\")\n",
    "plt.title(\"Distribution of Word Frequency\")\n",
    "plt.xlabel(\"Word Frequency\")\n",
    "plt.ylabel(\"Number of Words\")\n",
    "plt.grid(axis=\"y\")\n",
    "plt.yscale(\"log\")  # Set the y-axis scale to logarithmic\n",
    "plt.show()"
   ]
  },
  {
   "cell_type": "code",
   "execution_count": 53,
   "metadata": {},
   "outputs": [
    {
     "name": "stdout",
     "output_type": "stream",
     "text": [
      "inf < 2 :  160658\n",
      "sup > 30 :  34246\n",
      "total :  168740\n"
     ]
    },
    {
     "data": {
      "text/html": [
       "<div>\n",
       "<style scoped>\n",
       "    .dataframe tbody tr th:only-of-type {\n",
       "        vertical-align: middle;\n",
       "    }\n",
       "\n",
       "    .dataframe tbody tr th {\n",
       "        vertical-align: top;\n",
       "    }\n",
       "\n",
       "    .dataframe thead th {\n",
       "        text-align: right;\n",
       "    }\n",
       "</style>\n",
       "<table border=\"1\" class=\"dataframe\">\n",
       "  <thead>\n",
       "    <tr style=\"text-align: right;\">\n",
       "      <th></th>\n",
       "      <th>Word</th>\n",
       "      <th>Frequency</th>\n",
       "      <th>Word Length</th>\n",
       "    </tr>\n",
       "  </thead>\n",
       "  <tbody>\n",
       "    <tr>\n",
       "      <th>20347</th>\n",
       "      <td>wu</td>\n",
       "      <td>187</td>\n",
       "      <td>2</td>\n",
       "    </tr>\n",
       "    <tr>\n",
       "      <th>87793</th>\n",
       "      <td>httpwwwirishsocietyorghedgemasterarchivesfive_...</td>\n",
       "      <td>1</td>\n",
       "      <td>55</td>\n",
       "    </tr>\n",
       "    <tr>\n",
       "      <th>202897</th>\n",
       "      <td>httpdocsnewsbankcomggooglepmdmlibfffbeabahtml</td>\n",
       "      <td>1</td>\n",
       "      <td>45</td>\n",
       "    </tr>\n",
       "    <tr>\n",
       "      <th>17938</th>\n",
       "      <td>httpwwwladhsorgwpsportalutpc_sbkxllmmsszpyxbzc...</td>\n",
       "      <td>1</td>\n",
       "      <td>202</td>\n",
       "    </tr>\n",
       "    <tr>\n",
       "      <th>165279</th>\n",
       "      <td>folkestonebrightonsouthamptondorchesterhoniton</td>\n",
       "      <td>1</td>\n",
       "      <td>46</td>\n",
       "    </tr>\n",
       "    <tr>\n",
       "      <th>220205</th>\n",
       "      <td>httpwwwcuisinenetcomdigestseasonspringlatevegs...</td>\n",
       "      <td>1</td>\n",
       "      <td>50</td>\n",
       "    </tr>\n",
       "    <tr>\n",
       "      <th>111500</th>\n",
       "      <td>httpwwwmacedonrangesvicgovaufilesresidentpokie...</td>\n",
       "      <td>1</td>\n",
       "      <td>64</td>\n",
       "    </tr>\n",
       "    <tr>\n",
       "      <th>47593</th>\n",
       "      <td>httpwwwmoonflarecomcodescolorq</td>\n",
       "      <td>1</td>\n",
       "      <td>30</td>\n",
       "    </tr>\n",
       "    <tr>\n",
       "      <th>67574</th>\n",
       "      <td>httpwwwnapedubookshtmlindexhtml</td>\n",
       "      <td>1</td>\n",
       "      <td>31</td>\n",
       "    </tr>\n",
       "    <tr>\n",
       "      <th>40903</th>\n",
       "      <td>httpwwwblackwellsynergycomdoiabsjxcookieset</td>\n",
       "      <td>1</td>\n",
       "      <td>43</td>\n",
       "    </tr>\n",
       "  </tbody>\n",
       "</table>\n",
       "</div>"
      ],
      "text/plain": [
       "                                                     Word  Frequency  \\\n",
       "20347                                                  wu        187   \n",
       "87793   httpwwwirishsocietyorghedgemasterarchivesfive_...          1   \n",
       "202897      httpdocsnewsbankcomggooglepmdmlibfffbeabahtml          1   \n",
       "17938   httpwwwladhsorgwpsportalutpc_sbkxllmmsszpyxbzc...          1   \n",
       "165279     folkestonebrightonsouthamptondorchesterhoniton          1   \n",
       "220205  httpwwwcuisinenetcomdigestseasonspringlatevegs...          1   \n",
       "111500  httpwwwmacedonrangesvicgovaufilesresidentpokie...          1   \n",
       "47593                      httpwwwmoonflarecomcodescolorq          1   \n",
       "67574                     httpwwwnapedubookshtmlindexhtml          1   \n",
       "40903         httpwwwblackwellsynergycomdoiabsjxcookieset          1   \n",
       "\n",
       "        Word Length  \n",
       "20347             2  \n",
       "87793            55  \n",
       "202897           45  \n",
       "17938           202  \n",
       "165279           46  \n",
       "220205           50  \n",
       "111500           64  \n",
       "47593            30  \n",
       "67574            31  \n",
       "40903            43  "
      ]
     },
     "execution_count": 53,
     "metadata": {},
     "output_type": "execute_result"
    }
   ],
   "source": [
    "# filter df with words that have length <= 4\n",
    "# test = df[(df['Word Length'] <= 2 ) | (df['Word Length'] >= 30)]\n",
    "\n",
    "inf = df[df[\"Word Length\"] <= 2]\n",
    "print(\"inf < 2 : \", sum(inf[\"Frequency\"]))\n",
    "sup = df[df[\"Word Length\"] >= 15]\n",
    "print(\"sup > 30 : \", sum(sup[\"Frequency\"]))\n",
    "test = df[(df[\"Word Length\"] <= 2) | (df[\"Word Length\"] >= 30)]\n",
    "print(\"total : \", sum(test[\"Frequency\"]))\n",
    "test.sample(10)"
   ]
  },
  {
   "cell_type": "code",
   "execution_count": 54,
   "metadata": {},
   "outputs": [
    {
     "name": "stdout",
     "output_type": "stream",
     "text": [
      "294605\n"
     ]
    }
   ],
   "source": [
    "print(sum(df[df[\"Frequency\"] <= 5][\"Frequency\"].astype(int)))"
   ]
  },
  {
   "cell_type": "code",
   "execution_count": 55,
   "metadata": {},
   "outputs": [
    {
     "data": {
      "text/plain": [
       "6159526"
      ]
     },
     "execution_count": 55,
     "metadata": {},
     "output_type": "execute_result"
    }
   ],
   "source": [
    "cpy = df.copy()\n",
    "sum(cpy[\"Frequency\"].astype(int))"
   ]
  },
  {
   "cell_type": "code",
   "execution_count": 56,
   "metadata": {},
   "outputs": [
    {
     "data": {
      "text/plain": [
       "6138027"
      ]
     },
     "execution_count": 56,
     "metadata": {},
     "output_type": "execute_result"
    }
   ],
   "source": [
    "# check if there is words that contains a character that is not a letter\n",
    "special = df[df[\"Word\"].str.contains(r\"[^a-zA-Z]\")]\n",
    "special = df[~df[\"Word\"].str.isalpha()]\n",
    "\n",
    "# remove the special characters from cpy\n",
    "cpy = cpy[~cpy[\"Word\"].str.contains(r\"[^a-zA-Z]\")]\n",
    "sum(cpy[\"Frequency\"].astype(int))"
   ]
  },
  {
   "cell_type": "code",
   "execution_count": 57,
   "metadata": {},
   "outputs": [
    {
     "data": {
      "text/plain": [
       "5974459"
      ]
     },
     "execution_count": 57,
     "metadata": {},
     "output_type": "execute_result"
    }
   ],
   "source": [
    "# remove words that have a length <= 2 or >= 30\n",
    "cpy = cpy[(cpy[\"Word Length\"] > 2) & (cpy[\"Word Length\"] < 30)]\n",
    "sum(cpy[\"Frequency\"].astype(int))"
   ]
  },
  {
   "cell_type": "code",
   "execution_count": 58,
   "metadata": {},
   "outputs": [],
   "source": [
    "length = 5\n",
    "# count the number of words that have a frequency <= 2\n",
    "sum(cpy[cpy[\"Frequency\"] <= length][\"Frequency\"].astype(int))"
   ]
  },
  {
   "cell_type": "code",
   "execution_count": null,
   "metadata": {},
   "outputs": [],
   "source": [
    "# write the list of words with a frequency <= 2 in a file\n",
    "# with open(\"../lib/processed_data/words_to_remove.txt\", \"w\") as f:\n",
    "#     for word in cpy[cpy[\"Frequency\"] <= length][\"Word\"]:\n",
    "#         if word.isalpha() and (len(word) > 2 and len(word) < 30):\n",
    "#             f.write(word + \"\\n\")"
   ]
  },
  {
   "cell_type": "code",
   "execution_count": 59,
   "metadata": {},
   "outputs": [
    {
     "data": {
      "text/plain": [
       "251548"
      ]
     },
     "execution_count": 59,
     "metadata": {},
     "output_type": "execute_result"
    }
   ],
   "source": [
    "sum(cpy[cpy[\"Frequency\"] < length][\"Frequency\"].astype(int))"
   ]
  },
  {
   "cell_type": "code",
   "execution_count": 31,
   "metadata": {},
   "outputs": [
    {
     "data": {
      "text/plain": [
       "5694481"
      ]
     },
     "execution_count": 31,
     "metadata": {},
     "output_type": "execute_result"
    }
   ],
   "source": [
    "sum(cpy[cpy[\"Frequency\"] > length][\"Frequency\"].astype(int))"
   ]
  },
  {
   "cell_type": "code",
   "execution_count": null,
   "metadata": {},
   "outputs": [],
   "source": [
    "def generate_diff_table(file1_words, file2_words):\n",
    "    matcher = SequenceMatcher(None, file1_words, file2_words)\n",
    "    diff = matcher.get_opcodes()\n",
    "\n",
    "    table_data = []\n",
    "    for opcode, a_start, a_end, b_start, b_end in diff:\n",
    "        if opcode == \"delete\":\n",
    "            deleted_words = [\n",
    "                Fore.RED + file1_words[i] + Style.RESET_ALL\n",
    "                for i in range(a_start, a_end)\n",
    "            ]\n",
    "            table_data.append([\" \".join(deleted_words), \"Deleted\", \"\"])\n",
    "        elif opcode == \"insert\":\n",
    "            inserted_words = [\n",
    "                Fore.GREEN + file2_words[i] + Style.RESET_ALL\n",
    "                for i in range(b_start, b_end)\n",
    "            ]\n",
    "            table_data.append([\"\", \"Inserted\", \" \".join(inserted_words)])\n",
    "        elif opcode == \"replace\":\n",
    "            deleted_words = [\n",
    "                Fore.RED + file1_words[i] + Style.RESET_ALL\n",
    "                for i in range(a_start, a_end)\n",
    "            ]\n",
    "            inserted_words = [\n",
    "                Fore.GREEN + file2_words[i] + Style.RESET_ALL\n",
    "                for i in range(b_start, b_end)\n",
    "            ]\n",
    "            # Zip the deleted and inserted words together and construct strings\n",
    "            changed_words = [\n",
    "                f\"{deleted_word} --> {inserted_word}\"\n",
    "                for deleted_word, inserted_word in zip(deleted_words, inserted_words)\n",
    "            ]\n",
    "            table_data.append(\n",
    "                [\" \".join(deleted_words), \"Deleted\", \" \".join(inserted_words)]\n",
    "            )\n",
    "\n",
    "    df = pd.DataFrame(table_data, columns=[\"File 1\", \"Operation\", \"File 2\"])\n",
    "\n",
    "    return df\n",
    "\n",
    "\n",
    "def diff(content1, content2):\n",
    "    file1_words = content1.split()\n",
    "    file2_words = content2.split()\n",
    "\n",
    "    df = generate_diff_table(file1_words, file2_words)\n",
    "\n",
    "    # Remove ANSI escape codes from the DataFrame before displaying\n",
    "    df_no_colors = df.applymap(lambda s: re.sub(r\"\\033\\[[\\d;]+m\", \"\", s))\n",
    "\n",
    "    # Display the table of differences\n",
    "    # print(tabulate(df, headers=['File 1', '', 'File 2']))\n",
    "\n",
    "    return df_no_colors"
   ]
  }
 ],
 "metadata": {
  "kernelspec": {
   "display_name": "Python 3",
   "language": "python",
   "name": "python3"
  },
  "language_info": {
   "codemirror_mode": {
    "name": "ipython",
    "version": 3
   },
   "file_extension": ".py",
   "mimetype": "text/x-python",
   "name": "python",
   "nbconvert_exporter": "python",
   "pygments_lexer": "ipython3",
   "version": "3.10.12"
  },
  "orig_nbformat": 4
 },
 "nbformat": 4,
 "nbformat_minor": 2
}
